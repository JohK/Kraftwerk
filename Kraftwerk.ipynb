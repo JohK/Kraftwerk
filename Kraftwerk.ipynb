{
 "cells": [
  {
   "cell_type": "markdown",
   "metadata": {},
   "source": [
    "Power Plant cycle\n",
    "===\n"
   ]
  },
  {
   "cell_type": "code",
   "execution_count": 5,
   "metadata": {
    "collapsed": true
   },
   "outputs": [
    {
     "ename": "ImportError",
     "evalue": "dlopen(/usr/local/lib/python3.4/site-packages/cantera/_cantera.so, 2): Library not loaded: /opt/local/lib/libsundials_cvodes.2.dylib\n  Referenced from: /usr/local/lib/python3.4/site-packages/cantera/_cantera.so\n  Reason: image not found",
     "traceback": [
      "\u001b[0;31m---------------------------------------------------------------------------\u001b[0m",
      "\u001b[0;31mImportError\u001b[0m                               Traceback (most recent call last)",
      "\u001b[0;32m<ipython-input-5-1b4dd275cffd>\u001b[0m in \u001b[0;36m<module>\u001b[0;34m()\u001b[0m\n\u001b[0;32m----> 1\u001b[0;31m \u001b[0;32mimport\u001b[0m \u001b[0mcantera\u001b[0m \u001b[0;32mas\u001b[0m \u001b[0mct\u001b[0m\u001b[0;34m\u001b[0m\u001b[0;34m\u001b[0m\u001b[0m\n\u001b[0m\u001b[1;32m      2\u001b[0m \u001b[0;32mimport\u001b[0m \u001b[0mpandas\u001b[0m \u001b[0;32mas\u001b[0m \u001b[0mpd\u001b[0m\u001b[0;34m\u001b[0m\u001b[0;34m\u001b[0m\u001b[0m\n\u001b[1;32m      3\u001b[0m \u001b[0;32mimport\u001b[0m \u001b[0mastropy\u001b[0m\u001b[0;34m.\u001b[0m\u001b[0munits\u001b[0m \u001b[0;32mas\u001b[0m \u001b[0mu\u001b[0m\u001b[0;34m\u001b[0m\u001b[0;34m\u001b[0m\u001b[0m\n\u001b[1;32m      4\u001b[0m \u001b[0;34m\u001b[0m\u001b[0m\n\u001b[1;32m      5\u001b[0m \u001b[0;34m\u001b[0m\u001b[0m\n",
      "\u001b[0;32m/usr/local/lib/python3.4/site-packages/cantera/__init__.py\u001b[0m in \u001b[0;36m<module>\u001b[0;34m()\u001b[0m\n\u001b[0;32m----> 1\u001b[0;31m \u001b[0;32mfrom\u001b[0m \u001b[0;34m.\u001b[0m\u001b[0m_cantera\u001b[0m \u001b[0;32mimport\u001b[0m \u001b[0;34m*\u001b[0m\u001b[0;34m\u001b[0m\u001b[0;34m\u001b[0m\u001b[0m\n\u001b[0m\u001b[1;32m      2\u001b[0m \u001b[0;32mfrom\u001b[0m \u001b[0;34m.\u001b[0m\u001b[0m_cantera\u001b[0m \u001b[0;32mimport\u001b[0m \u001b[0m__version__\u001b[0m\u001b[0;34m,\u001b[0m \u001b[0m_have_sundials\u001b[0m\u001b[0;34m\u001b[0m\u001b[0;34m\u001b[0m\u001b[0m\n\u001b[1;32m      3\u001b[0m \u001b[0;32mfrom\u001b[0m \u001b[0;34m.\u001b[0m\u001b[0mliquidvapor\u001b[0m \u001b[0;32mimport\u001b[0m \u001b[0;34m*\u001b[0m\u001b[0;34m\u001b[0m\u001b[0;34m\u001b[0m\u001b[0m\n\u001b[1;32m      4\u001b[0m \u001b[0;32mfrom\u001b[0m \u001b[0;34m.\u001b[0m\u001b[0monedim\u001b[0m \u001b[0;32mimport\u001b[0m \u001b[0;34m*\u001b[0m\u001b[0;34m\u001b[0m\u001b[0;34m\u001b[0m\u001b[0m\n\u001b[1;32m      5\u001b[0m \u001b[0;32mfrom\u001b[0m \u001b[0;34m.\u001b[0m\u001b[0mutils\u001b[0m \u001b[0;32mimport\u001b[0m \u001b[0;34m*\u001b[0m\u001b[0;34m\u001b[0m\u001b[0;34m\u001b[0m\u001b[0m\n",
      "\u001b[0;31mImportError\u001b[0m: dlopen(/usr/local/lib/python3.4/site-packages/cantera/_cantera.so, 2): Library not loaded: /opt/local/lib/libsundials_cvodes.2.dylib\n  Referenced from: /usr/local/lib/python3.4/site-packages/cantera/_cantera.so\n  Reason: image not found"
     ],
     "output_type": "error"
    }
   ],
   "source": [
    "import cantera as ct\n",
    "import pandas as pd\n",
    "import astropy.units as u\n",
    "\n",
    "\n",
    "state = pd.DataFrame({'index':['1', '2', '2a', '3', '4', '5', '5a', '6'],\n",
    "                      'pressure': [None, None, None, None, None, None, None, None],\n",
    "                      'temperature': [None, None, None, None, None, None, None, None],\n",
    "                      'enthalpy': [None, None, None, None, None, None, None, None] \n",
    "                      }\n",
    "                     )\n",
    "\n",
    "\n",
    "# maximum temperature of cycle\n",
    "T_max = (570 + 273.15) *u.K\n",
    "P_max = 19.56 *u.MPa\n",
    "\n",
    "# re-firing pressure\n",
    "P_fre = 2.8  *u.MPa\n",
    "\n",
    "# ambient temperature (condensator)\n",
    "T_amb = (20 + 273.15) *u.K \n",
    "\n",
    "# calculate the saturation pressure in the condensator\n",
    "fluid = ct.Water()\n",
    "fluid.TP = T_amb.value, 100000\n",
    "P_cond = fluid.P_sat *u.Pa\n",
    "\n",
    "# 1=2\n",
    "state.pressure    = [P_max, P_max, P_max, P_max, P_fre, P_fre, None, P_cond]\n",
    "state.temperature = [T_amb, T_amb, None, T_max, None, T_max, None, T_amb]\n",
    "state.enthalpy = [H in ITERATE]\n",
    "\n",
    "print(fluid.T_sat)\n",
    "\n",
    "power_th = 1500000 *u.MW\n",
    "eff_el = 0.4\n",
    "power_el = power_th*eff_el\n",
    "\n",
    "print(state.pressure[1])"
   ]
  },
  {
   "cell_type": "code",
   "execution_count": null,
   "metadata": {},
   "outputs": [],
   "source": []
  }
 ],
 "metadata": {
  "kernelspec": {
   "display_name": "Python 2",
   "language": "python",
   "name": "python2"
  },
  "language_info": {
   "codemirror_mode": {
    "name": "ipython",
    "version": 2
   },
   "file_extension": ".py",
   "mimetype": "text/x-python",
   "name": "python",
   "nbconvert_exporter": "python",
   "pygments_lexer": "ipython2",
   "version": "2.7.6"
  }
 },
 "nbformat": 4,
 "nbformat_minor": 0
}
